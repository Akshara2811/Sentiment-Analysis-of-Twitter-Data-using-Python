{
 "cells": [
  {
   "cell_type": "markdown",
   "id": "6eccee17",
   "metadata": {},
   "source": [
    "# Sentiment Analysis of Apple Products through twitter\n",
    "\n",
    "\n",
    "## Data Facts and Import"
   ]
  },
  {
   "cell_type": "code",
   "execution_count": 63,
   "id": "477fe8fd",
   "metadata": {},
   "outputs": [],
   "source": [
    "from textblob import TextBlob"
   ]
  },
  {
   "cell_type": "code",
   "execution_count": 64,
   "id": "fa00b9ca",
   "metadata": {},
   "outputs": [],
   "source": [
    "import tweepy"
   ]
  },
  {
   "cell_type": "code",
   "execution_count": 65,
   "id": "1edb00ea",
   "metadata": {},
   "outputs": [],
   "source": [
    "from wordcloud import WordCloud"
   ]
  },
  {
   "cell_type": "code",
   "execution_count": 66,
   "id": "cf80808e",
   "metadata": {},
   "outputs": [],
   "source": [
    "import pandas as pd"
   ]
  },
  {
   "cell_type": "code",
   "execution_count": 67,
   "id": "5622659d",
   "metadata": {},
   "outputs": [],
   "source": [
    "import numpy as np\n",
    "import matplotlib.pyplot as plt\n",
    "import re\n",
    "plt.style.use('fivethirtyeight')"
   ]
  },
  {
   "cell_type": "code",
   "execution_count": 68,
   "id": "cc43af12",
   "metadata": {},
   "outputs": [],
   "source": [
    "reviews = pd.read_csv('C:/Users/adisa/Desktop/Qtech/apple.csv')"
   ]
  },
  {
   "cell_type": "code",
   "execution_count": 69,
   "id": "4bd1df77",
   "metadata": {},
   "outputs": [
    {
     "data": {
      "text/plain": [
       "(1630, 2)"
      ]
     },
     "execution_count": 69,
     "metadata": {},
     "output_type": "execute_result"
    }
   ],
   "source": [
    "reviews.shape"
   ]
  },
  {
   "cell_type": "code",
   "execution_count": 70,
   "id": "8335fe69",
   "metadata": {},
   "outputs": [
    {
     "data": {
      "text/html": [
       "<div>\n",
       "<style scoped>\n",
       "    .dataframe tbody tr th:only-of-type {\n",
       "        vertical-align: middle;\n",
       "    }\n",
       "\n",
       "    .dataframe tbody tr th {\n",
       "        vertical-align: top;\n",
       "    }\n",
       "\n",
       "    .dataframe thead th {\n",
       "        text-align: right;\n",
       "    }\n",
       "</style>\n",
       "<table border=\"1\" class=\"dataframe\">\n",
       "  <thead>\n",
       "    <tr style=\"text-align: right;\">\n",
       "      <th></th>\n",
       "      <th>text</th>\n",
       "      <th>sentiment</th>\n",
       "    </tr>\n",
       "  </thead>\n",
       "  <tbody>\n",
       "    <tr>\n",
       "      <th>0</th>\n",
       "      <td>Wow. Yall needa step it up @Apple RT @heynyla:...</td>\n",
       "      <td>-1</td>\n",
       "    </tr>\n",
       "    <tr>\n",
       "      <th>1</th>\n",
       "      <td>What Happened To Apple Inc?   http://t.co/FJEX...</td>\n",
       "      <td>0</td>\n",
       "    </tr>\n",
       "    <tr>\n",
       "      <th>2</th>\n",
       "      <td>Thank u @apple I can now compile all of the pi...</td>\n",
       "      <td>1</td>\n",
       "    </tr>\n",
       "    <tr>\n",
       "      <th>3</th>\n",
       "      <td>The oddly uplifting story of the Apple co-foun...</td>\n",
       "      <td>0</td>\n",
       "    </tr>\n",
       "    <tr>\n",
       "      <th>4</th>\n",
       "      <td>@apple can i exchange my iphone for a differen...</td>\n",
       "      <td>0</td>\n",
       "    </tr>\n",
       "  </tbody>\n",
       "</table>\n",
       "</div>"
      ],
      "text/plain": [
       "                                                text  sentiment\n",
       "0  Wow. Yall needa step it up @Apple RT @heynyla:...         -1\n",
       "1  What Happened To Apple Inc?   http://t.co/FJEX...          0\n",
       "2  Thank u @apple I can now compile all of the pi...          1\n",
       "3  The oddly uplifting story of the Apple co-foun...          0\n",
       "4  @apple can i exchange my iphone for a differen...          0"
      ]
     },
     "execution_count": 70,
     "metadata": {},
     "output_type": "execute_result"
    }
   ],
   "source": [
    "reviews.head()"
   ]
  },
  {
   "cell_type": "code",
   "execution_count": 71,
   "id": "5dd4f3f8",
   "metadata": {},
   "outputs": [
    {
     "name": "stdout",
     "output_type": "stream",
     "text": [
      "<class 'pandas.core.frame.DataFrame'>\n",
      "RangeIndex: 1630 entries, 0 to 1629\n",
      "Data columns (total 2 columns):\n",
      " #   Column     Non-Null Count  Dtype \n",
      "---  ------     --------------  ----- \n",
      " 0   text       1630 non-null   object\n",
      " 1   sentiment  1630 non-null   int64 \n",
      "dtypes: int64(1), object(1)\n",
      "memory usage: 25.6+ KB\n"
     ]
    }
   ],
   "source": [
    "reviews.info()"
   ]
  },
  {
   "cell_type": "code",
   "execution_count": 72,
   "id": "74538b13",
   "metadata": {},
   "outputs": [
    {
     "data": {
      "text/html": [
       "<div>\n",
       "<style scoped>\n",
       "    .dataframe tbody tr th:only-of-type {\n",
       "        vertical-align: middle;\n",
       "    }\n",
       "\n",
       "    .dataframe tbody tr th {\n",
       "        vertical-align: top;\n",
       "    }\n",
       "\n",
       "    .dataframe thead th {\n",
       "        text-align: right;\n",
       "    }\n",
       "</style>\n",
       "<table border=\"1\" class=\"dataframe\">\n",
       "  <thead>\n",
       "    <tr style=\"text-align: right;\">\n",
       "      <th></th>\n",
       "      <th>count</th>\n",
       "      <th>mean</th>\n",
       "      <th>std</th>\n",
       "      <th>min</th>\n",
       "      <th>25%</th>\n",
       "      <th>50%</th>\n",
       "      <th>75%</th>\n",
       "      <th>max</th>\n",
       "    </tr>\n",
       "  </thead>\n",
       "  <tbody>\n",
       "    <tr>\n",
       "      <th>sentiment</th>\n",
       "      <td>1630.0</td>\n",
       "      <td>-0.333129</td>\n",
       "      <td>0.63076</td>\n",
       "      <td>-1.0</td>\n",
       "      <td>-1.0</td>\n",
       "      <td>0.0</td>\n",
       "      <td>0.0</td>\n",
       "      <td>1.0</td>\n",
       "    </tr>\n",
       "  </tbody>\n",
       "</table>\n",
       "</div>"
      ],
      "text/plain": [
       "            count      mean      std  min  25%  50%  75%  max\n",
       "sentiment  1630.0 -0.333129  0.63076 -1.0 -1.0  0.0  0.0  1.0"
      ]
     },
     "execution_count": 72,
     "metadata": {},
     "output_type": "execute_result"
    }
   ],
   "source": [
    "reviews.describe().transpose()"
   ]
  },
  {
   "cell_type": "markdown",
   "id": "6facb6d2",
   "metadata": {},
   "source": [
    "## Data Cleaning / EDA"
   ]
  },
  {
   "cell_type": "code",
   "execution_count": 73,
   "id": "6a3db591",
   "metadata": {},
   "outputs": [
    {
     "name": "stdout",
     "output_type": "stream",
     "text": [
      "Count and percentage of missing values of the columns:\n"
     ]
    },
    {
     "data": {
      "text/html": [
       "<div>\n",
       "<style scoped>\n",
       "    .dataframe tbody tr th:only-of-type {\n",
       "        vertical-align: middle;\n",
       "    }\n",
       "\n",
       "    .dataframe tbody tr th {\n",
       "        vertical-align: top;\n",
       "    }\n",
       "\n",
       "    .dataframe thead th {\n",
       "        text-align: right;\n",
       "    }\n",
       "</style>\n",
       "<table border=\"1\" class=\"dataframe\">\n",
       "  <thead>\n",
       "    <tr style=\"text-align: right;\">\n",
       "      <th></th>\n",
       "      <th>0</th>\n",
       "      <th>1</th>\n",
       "    </tr>\n",
       "  </thead>\n",
       "  <tbody>\n",
       "    <tr>\n",
       "      <th>text</th>\n",
       "      <td>0</td>\n",
       "      <td>0.0</td>\n",
       "    </tr>\n",
       "    <tr>\n",
       "      <th>sentiment</th>\n",
       "      <td>0</td>\n",
       "      <td>0.0</td>\n",
       "    </tr>\n",
       "  </tbody>\n",
       "</table>\n",
       "</div>"
      ],
      "text/plain": [
       "           0    1\n",
       "text       0  0.0\n",
       "sentiment  0  0.0"
      ]
     },
     "execution_count": 73,
     "metadata": {},
     "output_type": "execute_result"
    }
   ],
   "source": [
    "count = reviews.isnull().sum().sort_values(ascending=False)\n",
    "percentage = ((reviews.isnull().sum()/len(reviews*100)).sort_values(ascending=False))\n",
    "missing_data = pd.concat([count, percentage], axis = 1) \n",
    "keys = [('Count', 'Percentage')]\n",
    "\n",
    "print('Count and percentage of missing values of the columns:')\n",
    "\n",
    "missing_data"
   ]
  },
  {
   "cell_type": "code",
   "execution_count": 74,
   "id": "1b591c04",
   "metadata": {},
   "outputs": [
    {
     "name": "stdout",
     "output_type": "stream",
     "text": [
      "Percentage for default \n",
      "\n",
      " 0    49.141\n",
      "-1    42.086\n",
      " 1     8.773\n",
      "Name: sentiment, dtype: float64\n"
     ]
    },
    {
     "data": {
      "image/png": "[encoded data removed]",
      "text/plain": [
       "<Figure size 432x288 with 1 Axes>"
      ]
     },
     "metadata": {
      "needs_background": "light"
     },
     "output_type": "display_data"
    }
   ],
   "source": [
    "import matplotlib.pyplot as plt\n",
    "%matplotlib inline\n",
    "print('Percentage for default \\n')\n",
    "print(round(reviews.sentiment.value_counts(normalize=True)*100,3))\n",
    "round(reviews.sentiment.value_counts(normalize=True)*100,3).plot(kind='bar')\n",
    "plt.title('Percentage Distributions by review')\n",
    "plt.show()"
   ]
  },
  {
   "cell_type": "markdown",
   "id": "57be8917",
   "metadata": {},
   "source": [
    "## Data Cleaning"
   ]
  },
  {
   "cell_type": "code",
   "execution_count": 75,
   "id": "c6f4f1df",
   "metadata": {},
   "outputs": [],
   "source": [
    "#Apply first level cleaning\n",
    "import re\n",
    "import string\n",
    "\n",
    "def text_clean_1(text):\n",
    "    text = text.lower()\n",
    "    text = re.sub('\\[.*?\\]','',text)\n",
    "    text = re.sub('[%s]' % re.escape(string.punctuation), '', text)\n",
    "    text = re.sub('\\w*\\d\\w*', '', text)\n",
    "    return text\n",
    "cleaned1 = lambda x: text_clean_1(x)"
   ]
  },
  {
   "cell_type": "code",
   "execution_count": 76,
   "id": "e8ee857b",
   "metadata": {},
   "outputs": [
    {
     "data": {
      "text/html": [
       "<div>\n",
       "<style scoped>\n",
       "    .dataframe tbody tr th:only-of-type {\n",
       "        vertical-align: middle;\n",
       "    }\n",
       "\n",
       "    .dataframe tbody tr th {\n",
       "        vertical-align: top;\n",
       "    }\n",
       "\n",
       "    .dataframe thead th {\n",
       "        text-align: right;\n",
       "    }\n",
       "</style>\n",
       "<table border=\"1\" class=\"dataframe\">\n",
       "  <thead>\n",
       "    <tr style=\"text-align: right;\">\n",
       "      <th></th>\n",
       "      <th>text</th>\n",
       "      <th>sentiment</th>\n",
       "      <th>cleaned_review</th>\n",
       "    </tr>\n",
       "  </thead>\n",
       "  <tbody>\n",
       "    <tr>\n",
       "      <th>0</th>\n",
       "      <td>Wow. Yall needa step it up @Apple RT @heynyla:...</td>\n",
       "      <td>-1</td>\n",
       "      <td>wow yall needa step it up apple rt heynyla mus...</td>\n",
       "    </tr>\n",
       "    <tr>\n",
       "      <th>1</th>\n",
       "      <td>What Happened To Apple Inc?   http://t.co/FJEX...</td>\n",
       "      <td>0</td>\n",
       "      <td>what happened to apple inc     aapl apple mone...</td>\n",
       "    </tr>\n",
       "    <tr>\n",
       "      <th>2</th>\n",
       "      <td>Thank u @apple I can now compile all of the pi...</td>\n",
       "      <td>1</td>\n",
       "      <td>thank u apple i can now compile all of the pic...</td>\n",
       "    </tr>\n",
       "    <tr>\n",
       "      <th>3</th>\n",
       "      <td>The oddly uplifting story of the Apple co-foun...</td>\n",
       "      <td>0</td>\n",
       "      <td>the oddly uplifting story of the apple cofound...</td>\n",
       "    </tr>\n",
       "    <tr>\n",
       "      <th>4</th>\n",
       "      <td>@apple can i exchange my iphone for a differen...</td>\n",
       "      <td>0</td>\n",
       "      <td>apple can i exchange my iphone for a different...</td>\n",
       "    </tr>\n",
       "  </tbody>\n",
       "</table>\n",
       "</div>"
      ],
      "text/plain": [
       "                                                text  sentiment  \\\n",
       "0  Wow. Yall needa step it up @Apple RT @heynyla:...         -1   \n",
       "1  What Happened To Apple Inc?   http://t.co/FJEX...          0   \n",
       "2  Thank u @apple I can now compile all of the pi...          1   \n",
       "3  The oddly uplifting story of the Apple co-foun...          0   \n",
       "4  @apple can i exchange my iphone for a differen...          0   \n",
       "\n",
       "                                      cleaned_review  \n",
       "0  wow yall needa step it up apple rt heynyla mus...  \n",
       "1  what happened to apple inc     aapl apple mone...  \n",
       "2  thank u apple i can now compile all of the pic...  \n",
       "3  the oddly uplifting story of the apple cofound...  \n",
       "4  apple can i exchange my iphone for a different...  "
      ]
     },
     "execution_count": 76,
     "metadata": {},
     "output_type": "execute_result"
    }
   ],
   "source": [
    "reviews['cleaned_review']= pd.DataFrame(reviews.text.apply(cleaned1))\n",
    "reviews.head()"
   ]
  },
  {
   "cell_type": "code",
   "execution_count": 77,
   "id": "e79a88a0",
   "metadata": {},
   "outputs": [],
   "source": [
    "#Apply second level of cleaning\n",
    "def text_clean_2(text):\n",
    "    text = re.sub('[''\"\"]','',text)\n",
    "    text = re.sub('\\n', '', text)\n",
    "    return text\n",
    "\n",
    "cleaned2 = lambda x: text_clean_2(x)"
   ]
  },
  {
   "cell_type": "code",
   "execution_count": 78,
   "id": "8c6f19e9",
   "metadata": {},
   "outputs": [
    {
     "data": {
      "text/html": [
       "<div>\n",
       "<style scoped>\n",
       "    .dataframe tbody tr th:only-of-type {\n",
       "        vertical-align: middle;\n",
       "    }\n",
       "\n",
       "    .dataframe tbody tr th {\n",
       "        vertical-align: top;\n",
       "    }\n",
       "\n",
       "    .dataframe thead th {\n",
       "        text-align: right;\n",
       "    }\n",
       "</style>\n",
       "<table border=\"1\" class=\"dataframe\">\n",
       "  <thead>\n",
       "    <tr style=\"text-align: right;\">\n",
       "      <th></th>\n",
       "      <th>text</th>\n",
       "      <th>sentiment</th>\n",
       "      <th>cleaned_review</th>\n",
       "      <th>cleaned_review_new</th>\n",
       "    </tr>\n",
       "  </thead>\n",
       "  <tbody>\n",
       "    <tr>\n",
       "      <th>0</th>\n",
       "      <td>Wow. Yall needa step it up @Apple RT @heynyla:...</td>\n",
       "      <td>-1</td>\n",
       "      <td>wow yall needa step it up apple rt heynyla mus...</td>\n",
       "      <td>wow yall needa step it up apple rt heynyla mus...</td>\n",
       "    </tr>\n",
       "    <tr>\n",
       "      <th>1</th>\n",
       "      <td>What Happened To Apple Inc?   http://t.co/FJEX...</td>\n",
       "      <td>0</td>\n",
       "      <td>what happened to apple inc     aapl apple mone...</td>\n",
       "      <td>what happened to apple inc     aapl apple mone...</td>\n",
       "    </tr>\n",
       "    <tr>\n",
       "      <th>2</th>\n",
       "      <td>Thank u @apple I can now compile all of the pi...</td>\n",
       "      <td>1</td>\n",
       "      <td>thank u apple i can now compile all of the pic...</td>\n",
       "      <td>thank u apple i can now compile all of the pic...</td>\n",
       "    </tr>\n",
       "    <tr>\n",
       "      <th>3</th>\n",
       "      <td>The oddly uplifting story of the Apple co-foun...</td>\n",
       "      <td>0</td>\n",
       "      <td>the oddly uplifting story of the apple cofound...</td>\n",
       "      <td>the oddly uplifting story of the apple cofound...</td>\n",
       "    </tr>\n",
       "    <tr>\n",
       "      <th>4</th>\n",
       "      <td>@apple can i exchange my iphone for a differen...</td>\n",
       "      <td>0</td>\n",
       "      <td>apple can i exchange my iphone for a different...</td>\n",
       "      <td>apple can i exchange my iphone for a different...</td>\n",
       "    </tr>\n",
       "    <tr>\n",
       "      <th>5</th>\n",
       "      <td>RT @JPDesloges: Apple Acted Unfairly In Suppre...</td>\n",
       "      <td>-1</td>\n",
       "      <td>rt jpdesloges apple acted unfairly in suppress...</td>\n",
       "      <td>rt jpdesloges apple acted unfairly in suppress...</td>\n",
       "    </tr>\n",
       "    <tr>\n",
       "      <th>6</th>\n",
       "      <td>Let's not forget that press effects stock @App...</td>\n",
       "      <td>0</td>\n",
       "      <td>lets not forget that press effects stock apple...</td>\n",
       "      <td>lets not forget that press effects stock apple...</td>\n",
       "    </tr>\n",
       "    <tr>\n",
       "      <th>7</th>\n",
       "      <td>Apple Inc. Deleted Songs From Rival Services F...</td>\n",
       "      <td>-1</td>\n",
       "      <td>apple inc deleted songs from rival services fr...</td>\n",
       "      <td>apple inc deleted songs from rival services fr...</td>\n",
       "    </tr>\n",
       "    <tr>\n",
       "      <th>8</th>\n",
       "      <td>@TeamCavuto @Apple They're staging a die in ar...</td>\n",
       "      <td>0</td>\n",
       "      <td>teamcavuto apple theyre staging a die in ar an...</td>\n",
       "      <td>teamcavuto apple theyre staging a die in ar an...</td>\n",
       "    </tr>\n",
       "    <tr>\n",
       "      <th>9</th>\n",
       "      <td>Happy Monday! My camera on my fancy @Apple #iP...</td>\n",
       "      <td>-1</td>\n",
       "      <td>happy monday my camera on my fancy apple  sudd...</td>\n",
       "      <td>happy monday my camera on my fancy apple  sudd...</td>\n",
       "    </tr>\n",
       "  </tbody>\n",
       "</table>\n",
       "</div>"
      ],
      "text/plain": [
       "                                                text  sentiment  \\\n",
       "0  Wow. Yall needa step it up @Apple RT @heynyla:...         -1   \n",
       "1  What Happened To Apple Inc?   http://t.co/FJEX...          0   \n",
       "2  Thank u @apple I can now compile all of the pi...          1   \n",
       "3  The oddly uplifting story of the Apple co-foun...          0   \n",
       "4  @apple can i exchange my iphone for a differen...          0   \n",
       "5  RT @JPDesloges: Apple Acted Unfairly In Suppre...         -1   \n",
       "6  Let's not forget that press effects stock @App...          0   \n",
       "7  Apple Inc. Deleted Songs From Rival Services F...         -1   \n",
       "8  @TeamCavuto @Apple They're staging a die in ar...          0   \n",
       "9  Happy Monday! My camera on my fancy @Apple #iP...         -1   \n",
       "\n",
       "                                      cleaned_review  \\\n",
       "0  wow yall needa step it up apple rt heynyla mus...   \n",
       "1  what happened to apple inc     aapl apple mone...   \n",
       "2  thank u apple i can now compile all of the pic...   \n",
       "3  the oddly uplifting story of the apple cofound...   \n",
       "4  apple can i exchange my iphone for a different...   \n",
       "5  rt jpdesloges apple acted unfairly in suppress...   \n",
       "6  lets not forget that press effects stock apple...   \n",
       "7  apple inc deleted songs from rival services fr...   \n",
       "8  teamcavuto apple theyre staging a die in ar an...   \n",
       "9  happy monday my camera on my fancy apple  sudd...   \n",
       "\n",
       "                                  cleaned_review_new  \n",
       "0  wow yall needa step it up apple rt heynyla mus...  \n",
       "1  what happened to apple inc     aapl apple mone...  \n",
       "2  thank u apple i can now compile all of the pic...  \n",
       "3  the oddly uplifting story of the apple cofound...  \n",
       "4  apple can i exchange my iphone for a different...  \n",
       "5  rt jpdesloges apple acted unfairly in suppress...  \n",
       "6  lets not forget that press effects stock apple...  \n",
       "7  apple inc deleted songs from rival services fr...  \n",
       "8  teamcavuto apple theyre staging a die in ar an...  \n",
       "9  happy monday my camera on my fancy apple  sudd...  "
      ]
     },
     "execution_count": 78,
     "metadata": {},
     "output_type": "execute_result"
    }
   ],
   "source": [
    "reviews['cleaned_review_new']= pd.DataFrame(reviews['cleaned_review'].apply(cleaned2))\n",
    "reviews.head(10)"
   ]
  },
  {
   "cell_type": "markdown",
   "id": "3995d85f",
   "metadata": {},
   "source": [
    "## Model Training"
   ]
  },
  {
   "cell_type": "code",
   "execution_count": 79,
   "id": "886e5779",
   "metadata": {},
   "outputs": [
    {
     "name": "stdout",
     "output_type": "stream",
     "text": [
      "IV train: 1467\n",
      "IV test : 163\n",
      "DV train: 1467\n",
      "DV test : 163\n"
     ]
    }
   ],
   "source": [
    "from sklearn.model_selection import train_test_split\n",
    "\n",
    "Independent_var = reviews.cleaned_review_new\n",
    "Dependent_var = reviews.sentiment\n",
    "\n",
    "IV_train, IV_test, DV_train, DV_test = train_test_split(Independent_var, Dependent_var, test_size = 0.1, random_state = 125)\n",
    "\n",
    "print('IV train:',len(IV_train))\n",
    "print('IV test :',len(IV_test))\n",
    "print('DV train:',len(DV_train))\n",
    "print('DV test :',len(DV_test))"
   ]
  },
  {
   "cell_type": "code",
   "execution_count": 80,
   "id": "a304454d",
   "metadata": {},
   "outputs": [],
   "source": [
    "from sklearn.feature_extraction.text import TfidfTransformer \n",
    "from sklearn.feature_extraction.text import CountVectorizer\n",
    "from sklearn.linear_model import LogisticRegression\n",
    "\n",
    "Cvec = CountVectorizer\n",
    "clf2 = LogisticRegression(solver = \"lbfgs\")\n",
    "\n",
    "from sklearn.pipeline import Pipeline"
   ]
  },
  {
   "cell_type": "code",
   "execution_count": 91,
   "id": "0f72e06a",
   "metadata": {},
   "outputs": [],
   "source": [
    "model = Pipeline([('vectorizer', Cvec()),('classifier',clf2)])"
   ]
  },
  {
   "cell_type": "code",
   "execution_count": 92,
   "id": "39444ddd",
   "metadata": {},
   "outputs": [
    {
     "data": {
      "text/plain": [
       "Pipeline(steps=[('vectorizer', CountVectorizer()),\n",
       "                ('classifier', LogisticRegression())])"
      ]
     },
     "execution_count": 92,
     "metadata": {},
     "output_type": "execute_result"
    }
   ],
   "source": [
    "model.fit(IV_train, DV_train)"
   ]
  },
  {
   "cell_type": "code",
   "execution_count": 93,
   "id": "ca6b2d0d",
   "metadata": {},
   "outputs": [],
   "source": [
    "from sklearn.metrics import confusion_matrix"
   ]
  },
  {
   "cell_type": "code",
   "execution_count": 96,
   "id": "b8ecccd3",
   "metadata": {},
   "outputs": [],
   "source": [
    "prediction = model.predict(IV_test)"
   ]
  },
  {
   "cell_type": "code",
   "execution_count": 97,
   "id": "a3207741",
   "metadata": {},
   "outputs": [
    {
     "data": {
      "text/plain": [
       "array([[57,  9,  2],\n",
       "       [10, 76,  4],\n",
       "       [ 0,  0,  5]], dtype=int64)"
      ]
     },
     "execution_count": 97,
     "metadata": {},
     "output_type": "execute_result"
    }
   ],
   "source": [
    "confusion_matrix(predictions, DV_test)"
   ]
  },
  {
   "cell_type": "markdown",
   "id": "8766aa15",
   "metadata": {},
   "source": [
    "## Model prediction"
   ]
  },
  {
   "cell_type": "code",
   "execution_count": 101,
   "id": "07095897",
   "metadata": {},
   "outputs": [
    {
     "name": "stdout",
     "output_type": "stream",
     "text": [
      "Accuracy : 0.8466257668711656\n",
      "Precision : 0.8625402562986386\n",
      "Recall : 0.8466257668711656\n"
     ]
    }
   ],
   "source": [
    "from sklearn.metrics import accuracy_score, precision_score, recall_score\n",
    "\n",
    "print(\"Accuracy :\", accuracy_score(predictions, DV_test))\n",
    "print(\"Precision :\", precision_score(predictions, DV_test, average = 'weighted'))\n",
    "print(\"Recall :\", recall_score(predictions, DV_test, average = 'weighted'))"
   ]
  },
  {
   "cell_type": "markdown",
   "id": "2ad5b901",
   "metadata": {},
   "source": [
    "## Trying new reviews"
   ]
  },
  {
   "cell_type": "code",
   "execution_count": 119,
   "id": "08dcd5c7",
   "metadata": {},
   "outputs": [
    {
     "name": "stdout",
     "output_type": "stream",
     "text": [
      "[-1]\n"
     ]
    }
   ],
   "source": [
    "example = [\"product is very bad\"]\n",
    "result = model.predict(example)\n",
    "\n",
    "print(result)"
   ]
  },
  {
   "cell_type": "code",
   "execution_count": 120,
   "id": "21487b10",
   "metadata": {},
   "outputs": [
    {
     "name": "stdout",
     "output_type": "stream",
     "text": [
      "[1]\n"
     ]
    }
   ],
   "source": [
    "example = [\"absolutely love apple products\"]\n",
    "result = model.predict(example)\n",
    "\n",
    "print(result)"
   ]
  },
  {
   "cell_type": "code",
   "execution_count": 121,
   "id": "feaa8a3d",
   "metadata": {},
   "outputs": [
    {
     "name": "stdout",
     "output_type": "stream",
     "text": [
      "[0]\n"
     ]
    }
   ],
   "source": [
    "example = [\"iphone 12 is out in the market\"]\n",
    "result = model.predict(example)\n",
    "\n",
    "print(result)"
   ]
  },
  {
   "cell_type": "code",
   "execution_count": 128,
   "id": "e43a9711",
   "metadata": {},
   "outputs": [
    {
     "name": "stdout",
     "output_type": "stream",
     "text": [
      "[0]\n"
     ]
    }
   ],
   "source": [
    "example = [\"i love the new iphone\"]\n",
    "result = model.predict(example)\n",
    "\n",
    "print(result)"
   ]
  },
  {
   "cell_type": "code",
   "execution_count": null,
   "id": "8940ec3b",
   "metadata": {},
   "outputs": [],
   "source": []
  }
 ],
 "metadata": {
  "kernelspec": {
   "display_name": "Python 3",
   "language": "python",
   "name": "python3"
  },
  "language_info": {
   "codemirror_mode": {
    "name": "ipython",
    "version": 3
   },
   "file_extension": ".py",
   "mimetype": "text/x-python",
   "name": "python",
   "nbconvert_exporter": "python",
   "pygments_lexer": "ipython3",
   "version": "3.8.8"
  }
 },
 "nbformat": 4,
 "nbformat_minor": 5
}
